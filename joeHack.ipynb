{
 "cells": [
  {
   "cell_type": "code",
   "execution_count": 67,
   "metadata": {},
   "outputs": [
    {
     "name": "stdout",
     "output_type": "stream",
     "text": [
      "Your allensdk version is: 2.16.2\n"
     ]
    }
   ],
   "source": [
    "from pathlib import Path\n",
    "import matplotlib.pyplot as plt\n",
    "import numpy as np\n",
    "\n",
    "import allensdk\n",
    "from allensdk.brain_observatory.behavior.behavior_project_cache import VisualBehaviorNeuropixelsProjectCache\n",
    "\n",
    "# Confirming your allensdk version\n",
    "print(f\"Your allensdk version is: {allensdk.__version__}\")"
   ]
  },
  {
   "cell_type": "code",
   "execution_count": 68,
   "metadata": {},
   "outputs": [],
   "source": [
    "# Update this to a valid directory in your filesystem. This is where the data will be stored.\n",
    "output_dir = \"./AllenData\"\n",
    "DOWNLOAD_COMPLETE_DATASET = False"
   ]
  },
  {
   "cell_type": "code",
   "execution_count": 69,
   "metadata": {},
   "outputs": [],
   "source": [
    "output_dir = Path(output_dir)\n",
    "cache = VisualBehaviorNeuropixelsProjectCache.from_s3_cache(cache_dir=output_dir)"
   ]
  },
  {
   "cell_type": "code",
   "execution_count": 70,
   "metadata": {},
   "outputs": [
    {
     "name": "stderr",
     "output_type": "stream",
     "text": [
      "c:\\Users\\jshen\\AppData\\Local\\Programs\\Python\\Python311\\Lib\\site-packages\\hdmf\\utils.py:668: UserWarning: Ignoring cached namespace 'core' version 2.6.0-alpha because version 2.7.0 is already loaded.\n",
      "  return func(args[0], **pargs)\n"
     ]
    }
   ],
   "source": [
    "ecephys_sessions_table = cache.get_ecephys_session_table()\n",
    "ecephys_sessions_table = ecephys_sessions_table[ecephys_sessions_table['experience_level']=='Familiar']   # Familiar with images\n",
    "mouse_id = ecephys_sessions_table['mouse_id'].values\n",
    "mice     = []\n",
    "\n",
    "for id in range(len(np.unique(mouse_id))):\n",
    "    mice.append(ecephys_sessions_table.index[np.where(mouse_id==np.unique(mouse_id)[id])[0]][0])\n",
    "\n",
    "session       = mice[9]\n",
    "Session       = cache.get_ecephys_session(ecephys_session_id=session)\n",
    "units         = Session.get_units()\n",
    "channels      = Session.get_channels()\n",
    "unit_channels = units.merge(channels, left_on='peak_channel_id', right_index=True).sort_values('probe_vertical_position', ascending=False)\n",
    "\n",
    "good_unit_filter = ((unit_channels['snr']>1)&\n",
    "                    (unit_channels['isi_violations']<1)&\n",
    "                    (unit_channels['firing_rate']>0.1))\n",
    "good_units       = unit_channels.loc[good_unit_filter] \n",
    "\n",
    "\n",
    "all_spike_times        = Session.spike_times\n",
    "stimulus_presentations = Session.stimulus_presentations\n",
    "stim_table             = stimulus_presentations[(stimulus_presentations['stimulus_block']==0) & (stimulus_presentations['image_name']=='im036_r')]  # active block\n",
    "\n",
    "num_cells = len(all_spike_times)\n",
    "stims     = stim_table['start_time'].values\n",
    "durs      = stim_table['duration'].values\n",
    "\n",
    "\n",
    "\n"
   ]
  },
  {
   "cell_type": "code",
   "execution_count": 101,
   "metadata": {},
   "outputs": [],
   "source": [
    "\n",
    "brainRegions = []\n",
    "for j in good_units['structure_acronym']:\n",
    "    if j in brainRegions:\n",
    "        x = 0\n",
    "    else:\n",
    "        brainRegions.append(j)\n",
    "\n",
    "#Load the good units for each visual region\n",
    "good_units_VISal     = good_units[good_units['structure_acronym']=='VISal']\n",
    "good_units_VISp      = good_units[good_units['structure_acronym']=='VISp']\n",
    "good_units_VISam    = good_units[good_units['structure_acronym']=='VISam']\n",
    "good_units_VISpm     = good_units[good_units['structure_acronym']=='VISpm']\n",
    "good_units_VISrl     = good_units[good_units['structure_acronym']=='VISrl']\n",
    "good_units_VISl     = good_units[good_units['structure_acronym']=='VISl']\n",
    "\n",
    "\n",
    "\n",
    "\n",
    "\n",
    "ids_VISal = np.array(good_units_VISal['cluster_id'].keys())\n",
    "ids_VISp = np.array(good_units_VISp['cluster_id'].keys())\n",
    "ids_VISam = np.array(good_units_VISam['cluster_id'].keys())\n",
    "ids_VISpm = np.array(good_units_VISpm['cluster_id'].keys())\n",
    "ids_VISrl = np.array(good_units_VISrl['cluster_id'].keys())\n",
    "ids_VISl = np.array(good_units_VISl['cluster_id'].keys())\n",
    "\n",
    "\n",
    "\n",
    "\n"
   ]
  }
 ],
 "metadata": {
  "kernelspec": {
   "display_name": "Python 3",
   "language": "python",
   "name": "python3"
  },
  "language_info": {
   "codemirror_mode": {
    "name": "ipython",
    "version": 3
   },
   "file_extension": ".py",
   "mimetype": "text/x-python",
   "name": "python",
   "nbconvert_exporter": "python",
   "pygments_lexer": "ipython3",
   "version": "3.11.5"
  }
 },
 "nbformat": 4,
 "nbformat_minor": 2
}
