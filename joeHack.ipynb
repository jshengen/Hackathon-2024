{
 "cells": [
  {
   "cell_type": "code",
   "execution_count": 2,
   "metadata": {},
   "outputs": [
    {
     "name": "stdout",
     "output_type": "stream",
     "text": [
      "Your allensdk version is: 2.16.2\n"
     ]
    }
   ],
   "source": [
    "from pathlib import Path\n",
    "import matplotlib.pyplot as plt\n",
    "\n",
    "import allensdk\n",
    "from allensdk.brain_observatory.behavior.behavior_project_cache import VisualBehaviorNeuropixelsProjectCache\n",
    "\n",
    "# Confirming your allensdk version\n",
    "print(f\"Your allensdk version is: {allensdk.__version__}\")"
   ]
  },
  {
   "cell_type": "code",
   "execution_count": 3,
   "metadata": {},
   "outputs": [],
   "source": [
    "# Update this to a valid directory in your filesystem. This is where the data will be stored.\n",
    "output_dir = \"/Users/jshen/Projects/Hackathon2024/AllenData\"\n",
    "DOWNLOAD_COMPLETE_DATASET = False"
   ]
  },
  {
   "cell_type": "code",
   "execution_count": 4,
   "metadata": {},
   "outputs": [
    {
     "name": "stderr",
     "output_type": "stream",
     "text": [
      "ecephys_sessions.csv: 100%|██████████| 64.4k/64.4k [00:00<00:00, 1.02MMB/s]\n",
      "behavior_sessions.csv: 100%|██████████| 562k/562k [00:00<00:00, 6.77MMB/s]\n",
      "units.csv: 100%|██████████| 134M/134M [00:10<00:00, 12.2MMB/s] \n",
      "probes.csv: 100%|██████████| 130k/130k [00:00<00:00, 1.92MMB/s]\n",
      "channels.csv: 100%|██████████| 27.9M/27.9M [00:02<00:00, 12.6MMB/s]\n"
     ]
    }
   ],
   "source": [
    "output_dir = Path(output_dir)\n",
    "cache = VisualBehaviorNeuropixelsProjectCache.from_s3_cache(cache_dir=output_dir)"
   ]
  },
  {
   "cell_type": "code",
   "execution_count": null,
   "metadata": {},
   "outputs": [],
   "source": [
    "\n",
    "\n",
    "ecephys_sessions_table = cache.get_ecephys_session_table()\n",
    "ecephys_sessions_table = ecephys_sessions_table[ecephys_sessions_table['experience_level']=='Familiar']   # Familiar with images\n",
    "mouse_id = ecephys_sessions_table['mouse_id'].values\n",
    "mice     = []"
   ]
  }
 ],
 "metadata": {
  "kernelspec": {
   "display_name": "Python 3",
   "language": "python",
   "name": "python3"
  },
  "language_info": {
   "codemirror_mode": {
    "name": "ipython",
    "version": 3
   },
   "file_extension": ".py",
   "mimetype": "text/x-python",
   "name": "python",
   "nbconvert_exporter": "python",
   "pygments_lexer": "ipython3",
   "version": "3.11.5"
  }
 },
 "nbformat": 4,
 "nbformat_minor": 2
}
